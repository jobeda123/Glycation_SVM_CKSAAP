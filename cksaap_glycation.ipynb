{
  "nbformat": 4,
  "nbformat_minor": 0,
  "metadata": {
    "colab": {
      "name": "cksaap_glycation.ipynb",
      "provenance": [],
      "collapsed_sections": [],
      "mount_file_id": "1d6oEdA2g5lnM1hmhHYd-xK_kevswhwh3",
      "authorship_tag": "ABX9TyOgmtcgQD8MZJqAYC5iea/E",
      "include_colab_link": true
    },
    "kernelspec": {
      "name": "python3",
      "display_name": "Python 3"
    },
    "accelerator": "GPU"
  },
  "cells": [
    {
      "cell_type": "markdown",
      "metadata": {
        "id": "view-in-github",
        "colab_type": "text"
      },
      "source": [
        "<a href=\"https://colab.research.google.com/github/jobeda123/Glycation_SVM_CKSAAP/blob/master/cksaap_glycation.ipynb\" target=\"_parent\"><img src=\"https://colab.research.google.com/assets/colab-badge.svg\" alt=\"Open In Colab\"/></a>"
      ]
    },
    {
      "cell_type": "code",
      "metadata": {
        "id": "qvmDXuhCY3ly",
        "colab_type": "code",
        "colab": {
          "base_uri": "https://localhost:8080/",
          "height": 138
        },
        "outputId": "a7d7ea2a-8220-4ae7-ef12-36988b00783e"
      },
      "source": [
        "############ Import libraries\n",
        "\n",
        "import pandas as pd\n",
        "import numpy as np\n",
        "import matplotlib.pyplot as plt\n",
        "from sklearn.model_selection import train_test_split\n",
        "from numpy import mean\n",
        "from numpy import std\n",
        "from numpy import dstack\n",
        "from pandas import read_csv\n",
        "from sklearn.utils import class_weight\n",
        "from keras.utils import plot_model\n",
        "from sklearn import preprocessing\n",
        "from sklearn.preprocessing import StandardScaler\n",
        "from sklearn.model_selection import StratifiedShuffleSplit\n",
        "from sklearn.model_selection import GridSearchCV\n",
        "from sklearn.metrics import accuracy_score\n",
        "import imblearn\n",
        "from collections import Counter\n",
        "from imblearn.over_sampling import SMOTE\n",
        "from sklearn.metrics import classification_report, confusion_matrix\n",
        "from sklearn.metrics import matthews_corrcoef\n",
        "import random\n",
        "from sklearn.model_selection import KFold\n",
        "from sklearn import tree\n",
        "import seaborn as sns\n",
        "from sklearn.svm import SVC\n",
        "from sklearn.metrics import precision_score\n",
        "from sklearn.metrics import recall_score\n",
        "from sklearn.metrics import f1_score\n",
        "from sklearn import svm\n"
      ],
      "execution_count": null,
      "outputs": [
        {
          "output_type": "stream",
          "text": [
            "/usr/local/lib/python3.6/dist-packages/sklearn/externals/six.py:31: FutureWarning: The module is deprecated in version 0.21 and will be removed in version 0.23 since we've dropped support for Python 2.7. Please rely on the official version of six (https://pypi.org/project/six/).\n",
            "  \"(https://pypi.org/project/six/).\", FutureWarning)\n",
            "/usr/local/lib/python3.6/dist-packages/sklearn/utils/deprecation.py:144: FutureWarning: The sklearn.neighbors.base module is  deprecated in version 0.22 and will be removed in version 0.24. The corresponding classes / functions should instead be imported from sklearn.neighbors. Anything that cannot be imported from sklearn.neighbors is now part of the private API.\n",
            "  warnings.warn(message, FutureWarning)\n",
            "/usr/local/lib/python3.6/dist-packages/statsmodels/tools/_testing.py:19: FutureWarning: pandas.util.testing is deprecated. Use the functions in the public API at pandas.testing instead.\n",
            "  import pandas.util.testing as tm\n"
          ],
          "name": "stderr"
        }
      ]
    },
    {
      "cell_type": "code",
      "metadata": {
        "id": "qR0Dw_q3ZP3H",
        "colab_type": "code",
        "colab": {
          "base_uri": "https://localhost:8080/",
          "height": 34
        },
        "outputId": "29f8a3a8-d93a-4844-e43a-06c2c80ecd27"
      },
      "source": [
        "##### For Positive data ----- import CKSAAP where k=5\n",
        "\n",
        "positive_cksaap= pd.read_csv('/content/drive/My Drive/Dataset_for_Glycation/positive_CKSAAP.csv')\n",
        "\n",
        "print(positive_cksaap.shape)\n"
      ],
      "execution_count": null,
      "outputs": [
        {
          "output_type": "stream",
          "text": [
            "(3065, 2401)\n"
          ],
          "name": "stdout"
        }
      ]
    },
    {
      "cell_type": "code",
      "metadata": {
        "id": "2OgaCfZHZr1E",
        "colab_type": "code",
        "colab": {
          "base_uri": "https://localhost:8080/",
          "height": 50
        },
        "outputId": "4b97d726-d973-4201-a379-5cfd1b8b59e6"
      },
      "source": [
        "################## Spliting into train and test in positive data\n",
        "\n",
        "x_train_1,x_test_1=train_test_split(positive_cksaap,test_size=0.2)\n",
        "print(len(x_train_1))\n",
        "print(len(x_test_1))\n"
      ],
      "execution_count": null,
      "outputs": [
        {
          "output_type": "stream",
          "text": [
            "2452\n",
            "613\n"
          ],
          "name": "stdout"
        }
      ]
    },
    {
      "cell_type": "code",
      "metadata": {
        "id": "oPALRJuJZ3x-",
        "colab_type": "code",
        "colab": {
          "base_uri": "https://localhost:8080/",
          "height": 34
        },
        "outputId": "f40b1bb1-2eaf-4b41-ef7b-10a1cac89101"
      },
      "source": [
        "##### For Negative data ----- import CKSAAP where k=5\n",
        "\n",
        "negative_cksaap= pd.read_csv('/content/drive/My Drive/Dataset_for_Glycation/negative_CKSAAP.csv')\n",
        "\n",
        "print(negative_cksaap.shape)"
      ],
      "execution_count": null,
      "outputs": [
        {
          "output_type": "stream",
          "text": [
            "(20715, 2401)\n"
          ],
          "name": "stdout"
        }
      ]
    },
    {
      "cell_type": "code",
      "metadata": {
        "id": "xstI8HtrZ5cE",
        "colab_type": "code",
        "colab": {
          "base_uri": "https://localhost:8080/",
          "height": 50
        },
        "outputId": "4c04863e-646f-48af-fdeb-277ae1691c51"
      },
      "source": [
        "################## Spliting into train and test  negative data\n",
        "\n",
        "x_train_0,x_test_0=train_test_split(negative_cksaap,test_size=0.2)\n",
        "print(len(x_train_0))\n",
        "print(len(x_test_0))\n"
      ],
      "execution_count": null,
      "outputs": [
        {
          "output_type": "stream",
          "text": [
            "16572\n",
            "4143\n"
          ],
          "name": "stdout"
        }
      ]
    },
    {
      "cell_type": "code",
      "metadata": {
        "id": "IHh_2x4FaEeb",
        "colab_type": "code",
        "colab": {
          "base_uri": "https://localhost:8080/",
          "height": 50
        },
        "outputId": "41ddb2ac-4ee8-48a5-97e1-11917d27ec1a"
      },
      "source": [
        "############# Label combined for train\n",
        "\n",
        "y_train=[]\n",
        "for i in range(len(x_train_1)):\n",
        "  y_train.append(1)\n",
        "\n",
        "#print(len(y))  \n",
        "\n",
        "i=0\n",
        "for i in range(len(x_train_0)):\n",
        "  y_train.append(0)\n",
        "\n",
        "#print(len(y))\n",
        "\n",
        "\n",
        "#######  Feature combined for cksaap for train\n",
        "\n",
        "a1=x_train_0.shape[0]+x_train_1.shape[0]\n",
        "b1=x_train_1.shape[1]\n",
        "\n",
        "#print(a1)\n",
        "#print(b1)\n",
        "#print(c1)\n",
        "\n",
        "cksaap_train=np.zeros((a1,b1))\n",
        "print(cksaap_train.shape)\n",
        "cksaap_train=np.concatenate((x_train_1,x_train_0))\n",
        "\n",
        "print(len(cksaap_train))\n",
        "\n"
      ],
      "execution_count": null,
      "outputs": [
        {
          "output_type": "stream",
          "text": [
            "(19024, 2401)\n",
            "19024\n"
          ],
          "name": "stdout"
        }
      ]
    },
    {
      "cell_type": "code",
      "metadata": {
        "id": "cCgyoo5RaI9s",
        "colab_type": "code",
        "colab": {
          "base_uri": "https://localhost:8080/",
          "height": 50
        },
        "outputId": "e00f83a4-0ee3-4713-9eb1-6c871c905e06"
      },
      "source": [
        "############# Label combined for test\n",
        "\n",
        "y_test=[]\n",
        "for i in range(len(x_test_1)):\n",
        "  y_test.append(1)\n",
        "\n",
        "#print(len(y))  \n",
        "\n",
        "i=0\n",
        "for i in range(len(x_test_0)):\n",
        "  y_test.append(0)\n",
        "\n",
        "#print(len(y))\n",
        "\n",
        "\n",
        "#######  Feature combined for cksaap for train\n",
        "\n",
        "a1=x_test_0.shape[0]+x_test_1.shape[0]\n",
        "b1=x_test_1.shape[1]\n",
        "\n",
        "#print(a1)\n",
        "#print(b1)\n",
        "#print(c1)\n",
        "\n",
        "cksaap_test=np.zeros((a1,b1))\n",
        "print(cksaap_test.shape)\n",
        "cksaap_test=np.concatenate((x_test_1,x_test_0))\n",
        "\n",
        "print(len(cksaap_test))\n",
        "\n"
      ],
      "execution_count": null,
      "outputs": [
        {
          "output_type": "stream",
          "text": [
            "(4756, 2401)\n",
            "4756\n"
          ],
          "name": "stdout"
        }
      ]
    },
    {
      "cell_type": "code",
      "metadata": {
        "id": "HlD33CW1aL4d",
        "colab_type": "code",
        "colab": {
          "base_uri": "https://localhost:8080/",
          "height": 104
        },
        "outputId": "3c3cd90d-ed38-4da1-d6e8-6c8c22904369"
      },
      "source": [
        "####################  To Solve Imbalance Data for cksaap\n",
        "\n",
        "\n",
        "counter = Counter(y_train)\n",
        "print(\"Before using SMOTE: \",counter)\n",
        "\n",
        "# transform the dataset\n",
        "oversample = SMOTE()\n",
        "x_train_cksaap, y_train_cksaap = oversample.fit_resample(cksaap_train, y_train)\n",
        "\n",
        "\n",
        "# summarize the new class distribution\n",
        "counter = Counter(y_train_cksaap)\n",
        "print(\"After using SMOTE:\",counter)"
      ],
      "execution_count": null,
      "outputs": [
        {
          "output_type": "stream",
          "text": [
            "Before using SMOTE:  Counter({0: 16572, 1: 2452})\n"
          ],
          "name": "stdout"
        },
        {
          "output_type": "stream",
          "text": [
            "/usr/local/lib/python3.6/dist-packages/sklearn/utils/deprecation.py:87: FutureWarning: Function safe_indexing is deprecated; safe_indexing is deprecated in version 0.22 and will be removed in version 0.24.\n",
            "  warnings.warn(msg, category=FutureWarning)\n"
          ],
          "name": "stderr"
        },
        {
          "output_type": "stream",
          "text": [
            "After using SMOTE: Counter({1: 16572, 0: 16572})\n"
          ],
          "name": "stdout"
        }
      ]
    },
    {
      "cell_type": "code",
      "metadata": {
        "id": "Qa5aATwdaWbH",
        "colab_type": "code",
        "colab": {
          "base_uri": "https://localhost:8080/",
          "height": 136
        },
        "outputId": "9cb8b600-99cd-4c6b-f3ef-f5e4fa7577fd"
      },
      "source": [
        "#################### SVM model for cksaap with balance data\n",
        "\n",
        "\"\"\"\n",
        "\n",
        "############ Scaling features\n",
        "\n",
        "#min_max_scaler = preprocessing.MinMaxScaler()\n",
        "#cksaap_minmax = min_max_scaler.fit_transform()\n",
        "#print(onehot_features_minmax )\n",
        "\n",
        "######## Split data \n",
        "\n",
        "#x_train,x_test,y_train,y_test=train_test_split(onehot_features_minmax ,y_onehot_balance,test_size=0.2)\n",
        "\n",
        "\n",
        "clf = SVC(C=16)\n",
        "clf.fit(x_train_cksaap, y_train_cksaap)\n",
        "y_predict=clf.predict(cksaap_test)\n",
        "acc=accuracy_score(y_test,y_predict)\n",
        "confusion=confusion_matrix(y_test,y_predict)\n",
        "print(\"Confusion Matrix: \",confusion)\n",
        "TP=confusion[1,1]\n",
        "print(\"TP:\",TP)\n",
        "TN=confusion[0,0]\n",
        "print(\"TN: \",TN)\n",
        "FP=confusion[0,1]\n",
        "print(\"FP: \",FP)\n",
        "FN=confusion[1,0]\n",
        "print(\"FN: \",FN)\n",
        "a1=(TN+TP)/(float)(TN+TP+FN+FP)\n",
        "SN=TP/(float)(TP+FN)\n",
        "print(\"Sensivity: \",SN)\n",
        "SP=TN/(float)(TN+FP)\n",
        "print(\"Specificity: \",SP)\n",
        "mcc= matthews_corrcoef(y_test,y_predict)\n",
        "print(\"MCC: \",mcc)\n",
        "print(\"Accuracy from quation: \",a1)\n",
        "print(\"Accuracy from model: \",acc)\n",
        "\"\"\""
      ],
      "execution_count": null,
      "outputs": [
        {
          "output_type": "execute_result",
          "data": {
            "application/vnd.google.colaboratory.intrinsic+json": {
              "type": "string"
            },
            "text/plain": [
              "'\\n\\n############ Scaling features\\n\\n#min_max_scaler = preprocessing.MinMaxScaler()\\n#cksaap_minmax = min_max_scaler.fit_transform()\\n#print(onehot_features_minmax )\\n\\n######## Split data \\n\\n#x_train,x_test,y_train,y_test=train_test_split(onehot_features_minmax ,y_onehot_balance,test_size=0.2)\\n\\n\\nclf = SVC(C=16)\\nclf.fit(x_train_cksaap, y_train_cksaap)\\ny_predict=clf.predict(cksaap_test)\\nacc=accuracy_score(y_test,y_predict)\\nconfusion=confusion_matrix(y_test,y_predict)\\nprint(\"Confusion Matrix: \",confusion)\\nTP=confusion[1,1]\\nprint(\"TP:\",TP)\\nTN=confusion[0,0]\\nprint(\"TN: \",TN)\\nFP=confusion[0,1]\\nprint(\"FP: \",FP)\\nFN=confusion[1,0]\\nprint(\"FN: \",FN)\\na1=(TN+TP)/(float)(TN+TP+FN+FP)\\nSN=TP/(float)(TP+FN)\\nprint(\"Sensivity: \",SN)\\nSP=TN/(float)(TN+FP)\\nprint(\"Specificity: \",SP)\\nmcc= matthews_corrcoef(y_test,y_predict)\\nprint(\"MCC: \",mcc)\\nprint(\"Accuracy from quation: \",a1)\\nprint(\"Accuracy from model: \",acc)\\n'"
            ]
          },
          "metadata": {
            "tags": []
          },
          "execution_count": 9
        }
      ]
    },
    {
      "cell_type": "code",
      "metadata": {
        "id": "0quBjxXJbYDY",
        "colab_type": "code",
        "colab": {
          "base_uri": "https://localhost:8080/",
          "height": 69
        },
        "outputId": "aef8c9ec-b529-40c2-9d6a-bc15fb0c631d"
      },
      "source": [
        "############### Merge train and test for 10-fold cross validation\n",
        "\n",
        "\"\"\"\n",
        "a=x_train_cksaap.shape[0]+cksaap_test.shape[0]\n",
        "b=x_train_cksaap.shape[1]\n",
        "\n",
        "#print(a1)\n",
        "#print(b1)\n",
        "\n",
        "all_cksaap=np.zeros((a,b))\n",
        "print(all_cksaap.shape)\n",
        "all_cksaapt=np.concatenate((x_train_cksaap,cksaap_test))\n",
        "\n",
        "print(len(all_cksaap))\n",
        "\n",
        "all_y=np.concatenate((y_train_cksaap,y_test))\n",
        "print(len(all_y))\n",
        "\n",
        "\"\"\""
      ],
      "execution_count": null,
      "outputs": [
        {
          "output_type": "execute_result",
          "data": {
            "application/vnd.google.colaboratory.intrinsic+json": {
              "type": "string"
            },
            "text/plain": [
              "'\\na=x_train_cksaap.shape[0]+cksaap_test.shape[0]\\nb=x_train_cksaap.shape[1]\\n\\n#print(a1)\\n#print(b1)\\n\\nall_cksaap=np.zeros((a,b))\\nprint(all_cksaap.shape)\\nall_cksaapt=np.concatenate((x_train_cksaap,cksaap_test))\\n\\nprint(len(all_cksaap))\\n\\nall_y=np.concatenate((y_train_cksaap,y_test))\\nprint(len(all_y))\\n\\n'"
            ]
          },
          "metadata": {
            "tags": []
          },
          "execution_count": 10
        }
      ]
    },
    {
      "cell_type": "code",
      "metadata": {
        "id": "3f0tedX2akKN",
        "colab_type": "code",
        "colab": {
          "base_uri": "https://localhost:8080/",
          "height": 1000
        },
        "outputId": "85aa5591-dbb7-40ee-f4be-8c6a7214d42e"
      },
      "source": [
        "################## KFold Cross Validation approach\n",
        "\n",
        "\n",
        "clf = SVC(C=16)\n",
        "kf = KFold(n_splits=10,shuffle=True)\n",
        "kf.split(x_train_cksaap)    \n",
        "     \n",
        "# Initialize the accuracy of the models to blank list. The accuracy of each model will be appended to this list\n",
        "accuracy_model = []\n",
        "sn_model = []\n",
        "sp_model = []\n",
        "f1_model = []\n",
        "mcc_model= []\n",
        "\n",
        " \n",
        "# Iterate over each train-test split\n",
        "for train_index, test_index in kf.split(x_train_cksaap):\n",
        "    print(\"************************ Model***********************\")\n",
        "    # Split train-test\n",
        "    X_train, X_test = x_train_cksaap[train_index], x_train_cksaap[test_index]\n",
        "    y_train, y_test = y_train_cksaap[train_index], y_train_cksaap[test_index]\n",
        "    # Train the model\n",
        "    model = clf.fit(X_train, y_train)\n",
        "    # Append to accuracy_model the accuracy of the model\n",
        "    y_pred=model.predict(X_test)\n",
        "    accuracy_model.append(accuracy_score(y_test, y_pred)*100)\n",
        "    confusion=confusion_matrix(y_test,y_pred)\n",
        "    print(\"Confusion Matrix: \",confusion)\n",
        "    TP=confusion[1,1]\n",
        "    print(\"TP:\",TP)\n",
        "    TN=confusion[0,0]\n",
        "    print(\"TN: \",TN)\n",
        "    FP=confusion[0,1]\n",
        "    print(\"FP: \",FP)\n",
        "    FN=confusion[1,0]\n",
        "    print(\"FN: \",FN)\n",
        "    a1=(TN+TP)/(float)(TN+TP+FN+FP)\n",
        "    SN=TP/(float)(TP+FN)\n",
        "    sn_model.append(SN)\n",
        "    print(\"Sensivity: \",SN)\n",
        "    SP=TN/(float)(TN+FP)\n",
        "    sp_model.append(SP)\n",
        "    print(\"Specificity: \",SP)\n",
        "    mcc= matthews_corrcoef(y_test,y_pred)\n",
        "    mcc_model.append(mcc)\n",
        "    print(\"MCC: \",mcc)\n",
        "    print(\"Accuracy from quation: \",a1)\n",
        "    f1_model.append(f1_score(y_test, y_pred))\n",
        "    print(\"**************************************************\")\n",
        "\n",
        "# Print the accuracy    \n",
        "print(\"Accuracy:\",accuracy_model)\n",
        "print(\"Sensitivity:\",sn_model)\n",
        "print(\"Specificity:\",sp_model)\n",
        "print(\"F-1 Score:\",f1_model)\n",
        "print(\"MCC Score:\",mcc_model)\n",
        "\n",
        "\n",
        "\n",
        "a=sum(accuracy_model)/len(accuracy_model)\n",
        "print(\"Average Accuracy: \",a)\n",
        "b=sum(sn_model)/len(accuracy_model)\n",
        "print(\"Average Sensitivity: \",b)\n",
        "c=sum(sp_model)/len(accuracy_model)\n",
        "print(\"Average Specificity: \",c)\n",
        "d=sum(f1_model)/len(accuracy_model)\n",
        "print(\"Average f-1 Score: \",d)\n",
        "e=sum(mcc_model)/len(accuracy_model)\n",
        "print(\"Average MCC Score: \",e)\n",
        "\n"
      ],
      "execution_count": null,
      "outputs": [
        {
          "output_type": "stream",
          "text": [
            "************************ Model***********************\n",
            "Confusion Matrix:  [[1359  263]\n",
            " [   0 1693]]\n",
            "TP: 1693\n",
            "TN:  1359\n",
            "FP:  263\n",
            "FN:  0\n",
            "Sensivity:  1.0\n",
            "Specificity:  0.8378545006165228\n",
            "MCC:  0.8515856944919159\n",
            "Accuracy from quation:  0.9206636500754147\n",
            "**************************************************\n",
            "************************ Model***********************\n",
            "Confusion Matrix:  [[1344  294]\n",
            " [   0 1677]]\n",
            "TP: 1677\n",
            "TN:  1344\n",
            "FP:  294\n",
            "FN:  0\n",
            "Sensivity:  1.0\n",
            "Specificity:  0.8205128205128205\n",
            "MCC:  0.8355374200564336\n",
            "Accuracy from quation:  0.9113122171945701\n",
            "**************************************************\n",
            "************************ Model***********************\n",
            "Confusion Matrix:  [[1352  286]\n",
            " [   0 1677]]\n",
            "TP: 1677\n",
            "TN:  1352\n",
            "FP:  286\n",
            "FN:  0\n",
            "Sensivity:  1.0\n",
            "Specificity:  0.8253968253968254\n",
            "MCC:  0.8397263448763573\n",
            "Accuracy from quation:  0.9137254901960784\n",
            "**************************************************\n",
            "************************ Model***********************\n",
            "Confusion Matrix:  [[1363  257]\n",
            " [   0 1695]]\n",
            "TP: 1695\n",
            "TN:  1363\n",
            "FP:  257\n",
            "FN:  0\n",
            "Sensivity:  1.0\n",
            "Specificity:  0.841358024691358\n",
            "MCC:  0.854742630905958\n",
            "Accuracy from quation:  0.9224736048265461\n",
            "**************************************************\n",
            "************************ Model***********************\n",
            "Confusion Matrix:  [[1394  300]\n",
            " [   0 1620]]\n",
            "TP: 1620\n",
            "TN:  1394\n",
            "FP:  300\n",
            "FN:  0\n",
            "Sensivity:  1.0\n",
            "Specificity:  0.8229043683589138\n",
            "MCC:  0.8332620000953083\n",
            "Accuracy from quation:  0.9094749547374774\n",
            "**************************************************\n",
            "************************ Model***********************\n",
            "Confusion Matrix:  [[1387  301]\n",
            " [   0 1626]]\n",
            "TP: 1626\n",
            "TN:  1387\n",
            "FP:  301\n",
            "FN:  0\n",
            "Sensivity:  1.0\n",
            "Specificity:  0.8216824644549763\n",
            "MCC:  0.832667133285606\n",
            "Accuracy from quation:  0.9091732045866023\n",
            "**************************************************\n",
            "************************ Model***********************\n",
            "Confusion Matrix:  [[1414  271]\n",
            " [   0 1629]]\n",
            "TP: 1629\n",
            "TN:  1414\n",
            "FP:  271\n",
            "FN:  0\n",
            "Sensivity:  1.0\n",
            "Specificity:  0.8391691394658753\n",
            "MCC:  0.8482199715285849\n",
            "Accuracy from quation:  0.9182257091128545\n",
            "**************************************************\n",
            "************************ Model***********************\n",
            "Confusion Matrix:  [[1362  303]\n",
            " [   0 1649]]\n",
            "TP: 1649\n",
            "TN:  1362\n",
            "FP:  303\n",
            "FN:  0\n",
            "Sensivity:  1.0\n",
            "Specificity:  0.818018018018018\n",
            "MCC:  0.8312886598034915\n",
            "Accuracy from quation:  0.9085697042848522\n",
            "**************************************************\n",
            "************************ Model***********************\n",
            "Confusion Matrix:  [[1349  295]\n",
            " [   0 1670]]\n",
            "TP: 1670\n",
            "TN:  1349\n",
            "FP:  295\n",
            "FN:  0\n",
            "Sensivity:  1.0\n",
            "Specificity:  0.8205596107055961\n",
            "MCC:  0.8350875835520011\n",
            "Accuracy from quation:  0.9109837054918527\n",
            "**************************************************\n",
            "************************ Model***********************\n",
            "Confusion Matrix:  [[1375  303]\n",
            " [   0 1636]]\n",
            "TP: 1636\n",
            "TN:  1375\n",
            "FP:  303\n",
            "FN:  0\n",
            "Sensivity:  1.0\n",
            "Specificity:  0.8194278903456496\n",
            "MCC:  0.8314920782091312\n",
            "Accuracy from quation:  0.9085697042848522\n",
            "**************************************************\n",
            "Accuracy: [92.06636500754148, 91.13122171945702, 91.37254901960785, 92.2473604826546, 90.94749547374774, 90.91732045866023, 91.82257091128545, 90.85697042848521, 91.09837054918528, 90.85697042848521]\n",
            "Sensitivity: [1.0, 1.0, 1.0, 1.0, 1.0, 1.0, 1.0, 1.0, 1.0, 1.0]\n",
            "Specificity: [0.8378545006165228, 0.8205128205128205, 0.8253968253968254, 0.841358024691358, 0.8229043683589138, 0.8216824644549763, 0.8391691394658753, 0.818018018018018, 0.8205596107055961, 0.8194278903456496]\n",
            "F-1 Score: [0.9279254590298712, 0.9194078947368421, 0.9214285714285714, 0.9295311214697011, 0.9152542372881356, 0.9152828595553054, 0.9232077075658827, 0.9158567064704249, 0.9188445667125171, 0.9152447552447553]\n",
            "MCC Score: [0.8515856944919159, 0.8355374200564336, 0.8397263448763573, 0.854742630905958, 0.8332620000953083, 0.832667133285606, 0.8482199715285849, 0.8312886598034915, 0.8350875835520011, 0.8314920782091312]\n",
            "Average Accuracy:  91.33171944791098\n",
            "Average Sensitivity:  1.0\n",
            "Average Specificity:  0.8266883662566554\n",
            "Average f-1 Score:  0.9201983879502007\n",
            "Average MCC Score:  0.8393609516804789\n"
          ],
          "name": "stdout"
        }
      ]
    },
    {
      "cell_type": "code",
      "metadata": {
        "id": "Qf8IlNFoa1TA",
        "colab_type": "code",
        "colab": {
          "base_uri": "https://localhost:8080/",
          "height": 69
        },
        "outputId": "bbd7ba25-8175-4b03-a853-e3cd169645f3"
      },
      "source": [
        "################# Visualize accuracy for each iteration\n",
        " \n",
        "\"\"\"\n",
        "scores = pd.DataFrame(accuracy_model,columns=['Scores'])\n",
        " \n",
        "sns.set(style=\"white\", rc={\"lines.linewidth\": 3})\n",
        "sns.barplot(x=['Iter1','Iter2','Iter3','Iter4','Iter5','Iter6','Iter7','Iter8','Iter9','Iter10'],y=\"Scores\",data=scores)\n",
        "plt.show()\n",
        "sns.set()\n",
        "\n",
        "\"\"\""
      ],
      "execution_count": null,
      "outputs": [
        {
          "output_type": "execute_result",
          "data": {
            "application/vnd.google.colaboratory.intrinsic+json": {
              "type": "string"
            },
            "text/plain": [
              "'\\nscores = pd.DataFrame(accuracy_model,columns=[\\'Scores\\'])\\n \\nsns.set(style=\"white\", rc={\"lines.linewidth\": 3})\\nsns.barplot(x=[\\'Iter1\\',\\'Iter2\\',\\'Iter3\\',\\'Iter4\\',\\'Iter5\\',\\'Iter6\\',\\'Iter7\\',\\'Iter8\\',\\'Iter9\\',\\'Iter10\\'],y=\"Scores\",data=scores)\\nplt.show()\\nsns.set()\\n\\n'"
            ]
          },
          "metadata": {
            "tags": []
          },
          "execution_count": 12
        }
      ]
    },
    {
      "cell_type": "code",
      "metadata": {
        "id": "1Z0f8Djrflnt",
        "colab_type": "code",
        "colab": {
          "base_uri": "https://localhost:8080/",
          "height": 69
        },
        "outputId": "f24c1744-62d5-4259-9e90-5d0b800e15f6"
      },
      "source": [
        "\"\"\"\n",
        "accuracy = accuracy_score(testy, yhat_classes)\n",
        "print('Accuracy: %f' % accuracy)\n",
        "# precision tp / (tp + fp)\n",
        "precision = precision_score(testy, yhat_classes)\n",
        "print('Precision: %f' % precision)\n",
        "# recall: tp / (tp + fn)\n",
        "recall = recall_score(testy, yhat_classes)\n",
        "print('Recall: %f' % recall)\n",
        "# f1: 2 tp / (2 tp + fp + fn)\n",
        "f1 = f1_score(testy, yhat_classes)\n",
        "print('F1 score: %f' % f1)\n",
        "\"\"\""
      ],
      "execution_count": null,
      "outputs": [
        {
          "output_type": "execute_result",
          "data": {
            "application/vnd.google.colaboratory.intrinsic+json": {
              "type": "string"
            },
            "text/plain": [
              "\"\\naccuracy = accuracy_score(testy, yhat_classes)\\nprint('Accuracy: %f' % accuracy)\\n# precision tp / (tp + fp)\\nprecision = precision_score(testy, yhat_classes)\\nprint('Precision: %f' % precision)\\n# recall: tp / (tp + fn)\\nrecall = recall_score(testy, yhat_classes)\\nprint('Recall: %f' % recall)\\n# f1: 2 tp / (2 tp + fp + fn)\\nf1 = f1_score(testy, yhat_classes)\\nprint('F1 score: %f' % f1)\\n\""
            ]
          },
          "metadata": {
            "tags": []
          },
          "execution_count": 13
        }
      ]
    },
    {
      "cell_type": "code",
      "metadata": {
        "id": "b-GNBOFC5g0E",
        "colab_type": "code",
        "colab": {
          "base_uri": "https://localhost:8080/"
        },
        "outputId": "29870b0d-d4d7-480f-e901-476c790f5d92"
      },
      "source": [
        "\n",
        "\"\"\"\n",
        "from sklearn.model_selection import cross_val_score\n",
        "from sklearn.metrics import recall_score\n",
        "\n",
        "clf = svm.SVC(C=16)\n",
        "scores = cross_val_score(clf, x_train_cksaap, y_train_cksaap, cv=5)\n",
        "print(scores)\n",
        "\n",
        "\"\"\""
      ],
      "execution_count": null,
      "outputs": [
        {
          "output_type": "execute_result",
          "data": {
            "application/vnd.google.colaboratory.intrinsic+json": {
              "type": "string"
            },
            "text/plain": [
              "'\\nfrom sklearn.model_selection import cross_val_score\\nfrom sklearn.metrics import recall_score\\n\\nclf = svm.SVC(C=16)\\nscores = cross_val_score(clf, x_train_cksaap, y_train_cksaap, cv=5)\\nprint(scores)\\n\\n'"
            ]
          },
          "metadata": {
            "tags": []
          },
          "execution_count": 14
        }
      ]
    }
  ]
}